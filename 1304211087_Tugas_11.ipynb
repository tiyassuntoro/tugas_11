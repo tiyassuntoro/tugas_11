{
  "nbformat": 4,
  "nbformat_minor": 0,
  "metadata": {
    "colab": {
      "provenance": []
    },
    "kernelspec": {
      "name": "python3",
      "display_name": "Python 3"
    },
    "language_info": {
      "name": "python"
    }
  },
  "cells": [
    {
      "cell_type": "code",
      "source": [
        "import pandas as pd\n",
        "from sklearn.model_selection import train_test_split\n",
        "from sklearn.feature_extraction.text import CountVectorizer\n",
        "from sklearn.naive_bayes import MultinomialNB\n",
        "from sklearn.svm import SVC\n",
        "from sklearn.metrics import accuracy_score, classification_report\n",
        "\n",
        "# Load dataset\n",
        "data = pd.read_csv('/content/dataset_malwares.csv')"
      ],
      "metadata": {
        "id": "l6ftcer2XOPP"
      },
      "execution_count": 7,
      "outputs": []
    },
    {
      "cell_type": "code",
      "source": [
        "data.info()"
      ],
      "metadata": {
        "colab": {
          "base_uri": "https://localhost:8080/"
        },
        "id": "OHgCKJUXXREf",
        "outputId": "c687d53e-1a03-469a-ab15-5f50232909a6"
      },
      "execution_count": 8,
      "outputs": [
        {
          "output_type": "stream",
          "name": "stdout",
          "text": [
            "<class 'pandas.core.frame.DataFrame'>\n",
            "RangeIndex: 19611 entries, 0 to 19610\n",
            "Data columns (total 79 columns):\n",
            " #   Column                        Non-Null Count  Dtype  \n",
            "---  ------                        --------------  -----  \n",
            " 0   Name                          19611 non-null  object \n",
            " 1   e_magic                       19611 non-null  int64  \n",
            " 2   e_cblp                        19611 non-null  int64  \n",
            " 3   e_cp                          19611 non-null  int64  \n",
            " 4   e_crlc                        19611 non-null  int64  \n",
            " 5   e_cparhdr                     19611 non-null  int64  \n",
            " 6   e_minalloc                    19611 non-null  int64  \n",
            " 7   e_maxalloc                    19611 non-null  int64  \n",
            " 8   e_ss                          19611 non-null  int64  \n",
            " 9   e_sp                          19611 non-null  int64  \n",
            " 10  e_csum                        19611 non-null  int64  \n",
            " 11  e_ip                          19611 non-null  int64  \n",
            " 12  e_cs                          19611 non-null  int64  \n",
            " 13  e_lfarlc                      19611 non-null  int64  \n",
            " 14  e_ovno                        19611 non-null  int64  \n",
            " 15  e_oemid                       19611 non-null  int64  \n",
            " 16  e_oeminfo                     19611 non-null  int64  \n",
            " 17  e_lfanew                      19611 non-null  int64  \n",
            " 18  Machine                       19611 non-null  int64  \n",
            " 19  NumberOfSections              19611 non-null  int64  \n",
            " 20  TimeDateStamp                 19611 non-null  int64  \n",
            " 21  PointerToSymbolTable          19611 non-null  int64  \n",
            " 22  NumberOfSymbols               19611 non-null  int64  \n",
            " 23  SizeOfOptionalHeader          19611 non-null  int64  \n",
            " 24  Characteristics               19611 non-null  int64  \n",
            " 25  Magic                         19611 non-null  int64  \n",
            " 26  MajorLinkerVersion            19611 non-null  int64  \n",
            " 27  MinorLinkerVersion            19611 non-null  int64  \n",
            " 28  SizeOfCode                    19611 non-null  int64  \n",
            " 29  SizeOfInitializedData         19611 non-null  int64  \n",
            " 30  SizeOfUninitializedData       19611 non-null  int64  \n",
            " 31  AddressOfEntryPoint           19611 non-null  int64  \n",
            " 32  BaseOfCode                    19611 non-null  int64  \n",
            " 33  ImageBase                     19611 non-null  int64  \n",
            " 34  SectionAlignment              19611 non-null  int64  \n",
            " 35  FileAlignment                 19611 non-null  int64  \n",
            " 36  MajorOperatingSystemVersion   19611 non-null  int64  \n",
            " 37  MinorOperatingSystemVersion   19611 non-null  int64  \n",
            " 38  MajorImageVersion             19611 non-null  int64  \n",
            " 39  MinorImageVersion             19611 non-null  int64  \n",
            " 40  MajorSubsystemVersion         19611 non-null  int64  \n",
            " 41  MinorSubsystemVersion         19611 non-null  int64  \n",
            " 42  SizeOfHeaders                 19611 non-null  int64  \n",
            " 43  CheckSum                      19611 non-null  int64  \n",
            " 44  SizeOfImage                   19611 non-null  int64  \n",
            " 45  Subsystem                     19611 non-null  int64  \n",
            " 46  DllCharacteristics            19611 non-null  int64  \n",
            " 47  SizeOfStackReserve            19611 non-null  int64  \n",
            " 48  SizeOfStackCommit             19611 non-null  int64  \n",
            " 49  SizeOfHeapReserve             19611 non-null  int64  \n",
            " 50  SizeOfHeapCommit              19611 non-null  int64  \n",
            " 51  LoaderFlags                   19611 non-null  int64  \n",
            " 52  NumberOfRvaAndSizes           19611 non-null  int64  \n",
            " 53  Malware                       19611 non-null  int64  \n",
            " 54  SuspiciousImportFunctions     19611 non-null  int64  \n",
            " 55  SuspiciousNameSection         19611 non-null  int64  \n",
            " 56  SectionsLength                19611 non-null  int64  \n",
            " 57  SectionMinEntropy             19611 non-null  float64\n",
            " 58  SectionMaxEntropy             19611 non-null  int64  \n",
            " 59  SectionMinRawsize             19611 non-null  int64  \n",
            " 60  SectionMaxRawsize             19611 non-null  int64  \n",
            " 61  SectionMinVirtualsize         19611 non-null  int64  \n",
            " 62  SectionMaxVirtualsize         19611 non-null  int64  \n",
            " 63  SectionMaxPhysical            19611 non-null  int64  \n",
            " 64  SectionMinPhysical            19611 non-null  int64  \n",
            " 65  SectionMaxVirtual             19611 non-null  int64  \n",
            " 66  SectionMinVirtual             19611 non-null  int64  \n",
            " 67  SectionMaxPointerData         19611 non-null  int64  \n",
            " 68  SectionMinPointerData         19611 non-null  int64  \n",
            " 69  SectionMaxChar                19611 non-null  int64  \n",
            " 70  SectionMainChar               19611 non-null  int64  \n",
            " 71  DirectoryEntryImport          19611 non-null  int64  \n",
            " 72  DirectoryEntryImportSize      19611 non-null  int64  \n",
            " 73  DirectoryEntryExport          19611 non-null  int64  \n",
            " 74  ImageDirectoryEntryExport     19611 non-null  int64  \n",
            " 75  ImageDirectoryEntryImport     19611 non-null  int64  \n",
            " 76  ImageDirectoryEntryResource   19611 non-null  int64  \n",
            " 77  ImageDirectoryEntryException  19611 non-null  int64  \n",
            " 78  ImageDirectoryEntrySecurity   19611 non-null  int64  \n",
            "dtypes: float64(1), int64(77), object(1)\n",
            "memory usage: 11.8+ MB\n"
          ]
        }
      ]
    },
    {
      "cell_type": "code",
      "source": [
        "#hanya membutuhkan kolom Name dan Malware untuk menentukan data tersebut malware atau tidak\n",
        "#pada kolom Malware, data = 1 jika malware, data = 0 jika bukan malware\n",
        "# Split dataset into train and test sets\n",
        "X_train, X_test, y_train, y_test = train_test_split(data['Name'], data['Malware'], test_size=0.2, random_state=42)\n",
        "\n",
        "# Vectorize text data\n",
        "vectorizer = CountVectorizer()\n",
        "X_train_vect = vectorizer.fit_transform(X_train)\n",
        "X_test_vect = vectorizer.transform(X_test)"
      ],
      "metadata": {
        "id": "8brnomryXsV_"
      },
      "execution_count": 9,
      "outputs": []
    },
    {
      "cell_type": "markdown",
      "source": [
        "Naive Bayes"
      ],
      "metadata": {
        "id": "f_mA9-WhYWll"
      }
    },
    {
      "cell_type": "code",
      "source": [
        "# Naive Bayes classifier\n",
        "nb_classifier = MultinomialNB()\n",
        "nb_classifier.fit(X_train_vect, y_train)\n",
        "nb_predictions = nb_classifier.predict(X_test_vect)\n",
        "nb_accuracy = accuracy_score(y_test, nb_predictions)\n",
        "\n",
        "print(\"Naive Bayes Accuracy:\", nb_accuracy)\n",
        "print(\"Naive Bayes classification report:\")\n",
        "print(classification_report(y_test, nb_predictions))"
      ],
      "metadata": {
        "colab": {
          "base_uri": "https://localhost:8080/"
        },
        "id": "06jl4JZzYNBk",
        "outputId": "2221c54f-79a4-4f68-aeb7-8dd1608a6eda"
      },
      "execution_count": 10,
      "outputs": [
        {
          "output_type": "stream",
          "name": "stdout",
          "text": [
            "Naive Bayes Accuracy: 0.9994901860820801\n",
            "Naive Bayes classification report:\n",
            "              precision    recall  f1-score   support\n",
            "\n",
            "           0       1.00      1.00      1.00       995\n",
            "           1       1.00      1.00      1.00      2928\n",
            "\n",
            "    accuracy                           1.00      3923\n",
            "   macro avg       1.00      1.00      1.00      3923\n",
            "weighted avg       1.00      1.00      1.00      3923\n",
            "\n"
          ]
        }
      ]
    },
    {
      "cell_type": "markdown",
      "source": [
        "SVM"
      ],
      "metadata": {
        "id": "GafEt3DFYYAm"
      }
    },
    {
      "cell_type": "code",
      "execution_count": 12,
      "metadata": {
        "colab": {
          "base_uri": "https://localhost:8080/"
        },
        "id": "trYR0yEsWko4",
        "outputId": "7295fa7e-a27e-4fdc-c5c9-898e1ba03043"
      },
      "outputs": [
        {
          "output_type": "stream",
          "name": "stdout",
          "text": [
            "Naive Bayes Accuracy: 0.9994901860820801\n",
            "Support Vector Machine classification report:\n",
            "              precision    recall  f1-score   support\n",
            "\n",
            "           0       1.00      1.00      1.00       995\n",
            "           1       1.00      1.00      1.00      2928\n",
            "\n",
            "    accuracy                           1.00      3923\n",
            "   macro avg       1.00      1.00      1.00      3923\n",
            "weighted avg       1.00      1.00      1.00      3923\n",
            "\n"
          ]
        }
      ],
      "source": [
        "# Support Vector Machine classifier\n",
        "svm_classifier = SVC(kernel='linear')\n",
        "svm_classifier.fit(X_train_vect, y_train)\n",
        "svm_predictions = svm_classifier.predict(X_test_vect)\n",
        "svm_accuracy = accuracy_score(y_test, svm_predictions)\n",
        "\n",
        "print(\"Naive Bayes Accuracy:\", svm_accuracy)\n",
        "print(\"Support Vector Machine classification report:\")\n",
        "print(classification_report(y_test, svm_predictions))\n"
      ]
    }
  ]
}